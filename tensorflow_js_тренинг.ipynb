{
 "cells": [
  {
   "cell_type": "code",
   "execution_count": null,
   "metadata": {},
   "outputs": [],
   "source": [
    "import tensorflow as tf\n",
    "\n",
    "# import digit dataset\n",
    "mnist = tf.keras.datasets.mnist\n",
    "(tx, ty), (vx, vy) = mnist.load_data()\n",
    "\n",
    "# preprocess input types\n",
    "tx = tx[:,:,:,None].astype('float32')\n",
    "vx = vx[:,:,:,None].astype('float32')\n",
    "ty = ty.astype(int)\n",
    "vy = vy.astype(int)\n",
    "\n",
    "# display relevant info\n",
    "print(\"\"\"tx:%s, ty:%s\n",
    "vx:%s, vy:%s\"\"\" % (tx.shape, ty.shape, vx.shape, vy.shape))"
   ]
  },
  {
   "cell_type": "code",
   "execution_count": null,
   "metadata": {},
   "outputs": [],
   "source": [
    "import matplotlib.pyplot as plt\n",
    "\n",
    "# create a grid of plots\n",
    "f, axs = plt.subplots(10,10,figsize=(10,10))\n",
    "\n",
    "# plot a sample number into each subplot\n",
    "for i in range(10):\n",
    "  for j in range(10):\n",
    "    # get a sample image for the 'i' number\n",
    "    img = tx[ty==i,:,:,0][j,:,:]\n",
    "\n",
    "    # plot image in axes\n",
    "    axs[i,j].imshow(img, cmap='gray')\n",
    "\n",
    "    # remove x and y axis\n",
    "    axs[i,j].axis('off')\n",
    "\n",
    "# remove unecessary white space\n",
    "plt.tight_layout()\n",
    "\n",
    "# display image\n",
    "plt.show()"
   ]
  },
  {
   "cell_type": "code",
   "execution_count": null,
   "metadata": {},
   "outputs": [],
   "source": [
    "# defines a standard 2d convolution block with batch normalisation, \n",
    "# relu activation, max pooling and dropout\n",
    "\n",
    "def normConvBlock(filters, return_model=True, name=None):\n",
    "  lays = [\n",
    "    tf.keras.layers.Conv2D(filters, 3, padding='valid', name=name+'_conv'),\n",
    "    tf.keras.layers.BatchNormalization(name=name+'_bn'),\n",
    "    tf.keras.layers.Activation('relu', name=name+'_act'),\n",
    "    tf.keras.layers.MaxPooling2D(2, strides=2, name=name+'_mpool'),\n",
    "    tf.keras.layers.Dropout(0.1, name=name+'_drop'),\n",
    "  ]\n",
    "\n",
    "  if return_model:\n",
    "    return tf.keras.models.Sequential(lays, name=name)\n",
    "  else:\n",
    "    return lays"
   ]
  },
  {
   "cell_type": "code",
   "execution_count": null,
   "metadata": {},
   "outputs": [],
   "source": [
    "# create NN model\n",
    "model = tf.keras.models.Sequential()\n",
    "model.add(normConvBlock(64, name='b1'))\n",
    "model.add(normConvBlock(128, name='b2'))\n",
    "model.add(tf.keras.layers.Flatten(name='flat'))\n",
    "model.add(tf.keras.layers.Dense(10, activation='softmax', name='logit'))\n",
    "\n",
    "# compile model with adam optimizer and crossentropy loss\n",
    "# note that 'sparse_categorical_crossentropy' loss should be used as our target\n",
    "# is encoded as ordinal. if using one hot change this to 'categorical_crossentropy'\n",
    "model.compile('adam', 'sparse_categorical_crossentropy', metrics=['acc'])\n",
    "\n",
    "# test model with a sample image\n",
    "_ = model(tx[:1,:,:,:])\n",
    "\n",
    "# summary of model structure\n",
    "tf.keras.utils.plot_model(\n",
    "    model, \n",
    "    show_shapes=True, \n",
    "    show_layer_names=True, \n",
    "    show_dtype=True,\n",
    "    expand_nested=True,\n",
    "    dpi = 50\n",
    ")"
   ]
  },
  {
   "cell_type": "code",
   "execution_count": null,
   "metadata": {},
   "outputs": [],
   "source": [
    "# define an early stopping callback. This callback will load the iteration with\n",
    "# the best val loss at the end of training\n",
    "es_call = tf.keras.callbacks.EarlyStopping(\n",
    "    monitor='val_loss', min_delta=0, patience=2, verbose=0,\n",
    "    mode='auto', baseline=None, restore_best_weights=True\n",
    ")\n",
    "\n",
    "# fit the model with the mnist dataset\n",
    "history = model.fit(tx, ty, validation_data=(vx, vy), epochs=20, batch_size=1024, callbacks=[es_call])"
   ]
  },
  {
   "cell_type": "code",
   "execution_count": null,
   "metadata": {},
   "outputs": [],
   "source": [
    "# install / update the tensorflowjs package\n",
    "!pip install tensorflowjs > /dev/null 2>&1\n",
    "\n",
    "import tensorflowjs\n",
    "print(tensorflowjs.__version__)\n",
    "\n",
    "# convert keras model to tensorflow js\n",
    "tensorflowjs.converters.save_keras_model(model, './mnist_tf_keras_js_model/')"
   ]
  },
  {
   "cell_type": "code",
   "execution_count": null,
   "metadata": {},
   "outputs": [],
   "source": [
    "# download generated files from colab to local\n",
    "\n",
    "from google.colab import files\n",
    "\n",
    "files.download(\"mnist_tf_keras_js_model/group1-shard1of1.bin\")\n",
    "files.download(\"mnist_tf_keras_js_model/model.json\")"
   ]
  }
 ],
 "metadata": {
  "language_info": {
   "name": "python"
  }
 },
 "nbformat": 4,
 "nbformat_minor": 2
}
